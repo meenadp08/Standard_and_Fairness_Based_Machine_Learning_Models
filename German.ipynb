{
 "cells": [
  {
   "cell_type": "markdown",
   "id": "34ea90cb",
   "metadata": {},
   "source": [
    "## IMPORTING LIBRARIES"
   ]
  },
  {
   "cell_type": "code",
   "execution_count": 1,
   "id": "c95f899d",
   "metadata": {
    "scrolled": true
   },
   "outputs": [],
   "source": [
    "import numpy as np\n",
    "import pandas as pd\n",
    "import ethicml as em\n",
    "import matplotlib.pyplot as plt\n",
    "from tqdm import tqdm\n",
    "\n",
    "from aif360.datasets import GermanDataset\n",
    "from aif360.algorithms.preprocessing import DisparateImpactRemover\n",
    "from aif360.metrics import ClassificationMetric, BinaryLabelDatasetMetric\n",
    "from aif360.algorithms.preprocessing.optim_preproc_helpers.data_preproc_functions import load_preproc_data_german\n",
    "\n",
    "from fairmlhealth import report, measure\n",
    "\n",
    "from sklearn.model_selection import GridSearchCV\n",
    "from sklearn.preprocessing import LabelEncoder\n",
    "from sklearn.preprocessing import StandardScaler, MinMaxScaler\n",
    "from sklearn.linear_model import LogisticRegression\n",
    "from sklearn.metrics import accuracy_score, classification_report, confusion_matrix"
   ]
  },
  {
   "cell_type": "code",
   "execution_count": 2,
   "id": "aac3c6f7",
   "metadata": {
    "scrolled": true
   },
   "outputs": [
    {
     "name": "stdout",
     "output_type": "stream",
     "text": [
      "Features: ['month', 'credit_amount', 'investment_as_income_percentage', 'residence_since', 'age', 'number_of_credits', 'people_liable_for', 'sex', 'status=A11', 'status=A12', 'status=A13', 'status=A14', 'credit_history=A30', 'credit_history=A31', 'credit_history=A32', 'credit_history=A33', 'credit_history=A34', 'purpose=A40', 'purpose=A41', 'purpose=A410', 'purpose=A42', 'purpose=A43', 'purpose=A44', 'purpose=A45', 'purpose=A46', 'purpose=A48', 'purpose=A49', 'savings=A61', 'savings=A62', 'savings=A63', 'savings=A64', 'savings=A65', 'employment=A71', 'employment=A72', 'employment=A73', 'employment=A74', 'employment=A75', 'other_debtors=A101', 'other_debtors=A102', 'other_debtors=A103', 'property=A121', 'property=A122', 'property=A123', 'property=A124', 'installment_plans=A141', 'installment_plans=A142', 'installment_plans=A143', 'housing=A151', 'housing=A152', 'housing=A153', 'skill_level=A171', 'skill_level=A172', 'skill_level=A173', 'skill_level=A174', 'telephone=A191', 'telephone=A192', 'foreign_worker=A201', 'foreign_worker=A202']\n",
      "Target: ['credit']\n"
     ]
    }
   ],
   "source": [
    "# Define the sensitive attribute and load the dataset.\n",
    "german = GermanDataset()\n",
    "protected = 'sex'\n",
    "privileged_groups = [{'sex': 1}]\n",
    "unprivileged_groups = [{'sex': 0}]\n",
    "dataset_orig = load_preproc_data_german(['sex'])\n",
    "\n",
    "# Verify that the dataset was initialized properly\n",
    "print('Features:', german.feature_names)\n",
    "print('Target:', german.label_names)"
   ]
  },
  {
   "cell_type": "markdown",
   "id": "e1edd6ed",
   "metadata": {},
   "source": [
    "## EDA"
   ]
  },
  {
   "cell_type": "code",
   "execution_count": 3,
   "id": "be6ef4f9",
   "metadata": {},
   "outputs": [
    {
     "name": "stdout",
     "output_type": "stream",
     "text": [
      "Base rate on entire population: 0.70\n",
      "Base rate on privileged group (males) :0.72\n",
      "Base rate on unprivileged group (females) :0.65\n",
      "Statistical parity difference: -0.07\n",
      "Disparate impact: 0.90\n"
     ]
    },
    {
     "data": {
      "image/png": "[encoded data removed]",
      "text/plain": [
       "<Figure size 864x360 with 2 Axes>"
      ]
     },
     "metadata": {
      "needs_background": "light"
     },
     "output_type": "display_data"
    }
   ],
   "source": [
    "# Fairness-based exploratory data analysis\n",
    "\n",
    "def analyze_fairness(dataset, data):\n",
    "    # Separate income by group\n",
    "    female = data[data['sex'] == 0]['credit'] # female == 0\n",
    "    male = data[data['sex'] == 1]['credit'] # male == 1\n",
    "    # Dataset metrics\n",
    "    dm = BinaryLabelDatasetMetric(dataset, privileged_groups=privileged_groups, unprivileged_groups=unprivileged_groups)\n",
    "    print('Base rate on entire population: {:.2f}'.format(dm.base_rate())) # privileged = None\n",
    "    print('Base rate on privileged group (males) :{:.2f}'.format(dm.base_rate(privileged=True)))\n",
    "    print('Base rate on unprivileged group (females) :{:.2f}'.format(dm.base_rate(privileged=False)))\n",
    "    print('Statistical parity difference: {:.2f}'.format(dm.mean_difference()))\n",
    "    print('Disparate impact: {:.2f}'.format(dm.disparate_impact()))\n",
    "    # Plots\n",
    "    fig, (ax1, ax2) = plt.subplots(1, 2, figsize=(12,5)) # [1 x 2] grid\n",
    "    ax1.bar(['Yes Credit', 'No Credit'], male.value_counts(), label='Male')\n",
    "    ax1.bar(['Yes Credit', 'No Credit'], female.value_counts(), bottom=male.value_counts(), label='Female')\n",
    "    ax1.set_xlabel('Credit given')\n",
    "    ax1.set_ylabel('Count')\n",
    "    ax1.set_title('Credit grouped by sex')\n",
    "    ax1.legend()\n",
    "    ax2_y = data.groupby('sex')['credit'].mean().sort_values(ascending=False)\n",
    "    ax2_y.plot.bar(x=['Male', 'Female'], color=['#1f77b4', '#ff7f0e'], ylim=[0, 3])\n",
    "    ax2.set_ylabel('Probability of credit')\n",
    "    ax2.set_title('Probability of credit grouped by sex')\n",
    "    ax2.set_xticklabels(['Male', 'Female'])\n",
    "    for i, v in enumerate(ax2_y):\n",
    "        ax2.text(i-0.07, v+0.02, '{:.2f}'.format(v))\n",
    "    plt.show()\n",
    "\n",
    "# Convert dataset to dataframe\n",
    "german_df, _ = german.convert_to_dataframe()\n",
    "# Call function\n",
    "analyze_fairness(german, german_df)"
   ]
  },
  {
   "cell_type": "code",
   "execution_count": 4,
   "id": "9d13fd5f",
   "metadata": {},
   "outputs": [
    {
     "name": "stdout",
     "output_type": "stream",
     "text": [
      "Training data size (700, 11)\n"
     ]
    }
   ],
   "source": [
    "# Train test split\n",
    "train, test = dataset_orig.split([0.7], shuffle=True)\n",
    "print(\"Training data size\", train.features.shape)\n",
    "protected_idx = train.feature_names.index(protected)\n",
    "\n",
    "#Normalize the dataset, both train and test. This should always be done in any machine learning pipeline!\n",
    "scale_orig = StandardScaler()\n",
    "X_train = scale_orig.fit_transform(train.features)\n",
    "y_train = train.labels.ravel()\n",
    "\n",
    "X_test = scale_orig.transform(test.features) \n",
    "y_test = test.labels.ravel()"
   ]
  },
  {
   "cell_type": "markdown",
   "id": "49c4ec88",
   "metadata": {},
   "source": [
    "# TASK 1"
   ]
  },
  {
   "cell_type": "markdown",
   "id": "847fc7ee",
   "metadata": {},
   "source": [
    "### 5 FOLD CROSS VALIDATION"
   ]
  },
  {
   "cell_type": "code",
   "execution_count": 5,
   "id": "0c5518ef",
   "metadata": {},
   "outputs": [
    {
     "name": "stdout",
     "output_type": "stream",
     "text": [
      "Fitting 5 folds for each of 15 candidates, totalling 75 fits\n",
      "[CV 1/5] END max_iter=200, solver=newton-cg; accuracy: (test=0.707) f1_macro: (test=0.523) precision: (test=0.727) recall: (test=0.939) total time=   0.0s\n",
      "[CV 2/5] END max_iter=200, solver=newton-cg; accuracy: (test=0.714) f1_macro: (test=0.497) precision: (test=0.722) recall: (test=0.970) total time=   0.0s\n",
      "[CV 3/5] END max_iter=200, solver=newton-cg; accuracy: (test=0.707) f1_macro: (test=0.509) precision: (test=0.723) recall: (test=0.949) total time=   0.0s\n",
      "[CV 4/5] END max_iter=200, solver=newton-cg; accuracy: (test=0.743) f1_macro: (test=0.575) precision: (test=0.744) recall: (test=0.970) total time=   0.0s\n",
      "[CV 5/5] END max_iter=200, solver=newton-cg; accuracy: (test=0.707) f1_macro: (test=0.493) precision: (test=0.720) recall: (test=0.960) total time=   0.0s\n",
      "[CV 1/5] END max_iter=200, solver=lbfgs; accuracy: (test=0.707) f1_macro: (test=0.523) precision: (test=0.727) recall: (test=0.939) total time=   0.0s\n",
      "[CV 2/5] END max_iter=200, solver=lbfgs; accuracy: (test=0.714) f1_macro: (test=0.497) precision: (test=0.722) recall: (test=0.970) total time=   0.0s\n",
      "[CV 3/5] END max_iter=200, solver=lbfgs; accuracy: (test=0.707) f1_macro: (test=0.509) precision: (test=0.723) recall: (test=0.949) total time=   0.0s\n",
      "[CV 4/5] END max_iter=200, solver=lbfgs; accuracy: (test=0.743) f1_macro: (test=0.575) precision: (test=0.744) recall: (test=0.970) total time=   0.0s\n",
      "[CV 5/5] END max_iter=200, solver=lbfgs; accuracy: (test=0.707) f1_macro: (test=0.493) precision: (test=0.720) recall: (test=0.960) total time=   0.0s\n",
      "[CV 1/5] END max_iter=200, solver=liblinear; accuracy: (test=0.707) f1_macro: (test=0.523) precision: (test=0.727) recall: (test=0.939) total time=   0.0s\n",
      "[CV 2/5] END max_iter=200, solver=liblinear; accuracy: (test=0.714) f1_macro: (test=0.497) precision: (test=0.722) recall: (test=0.970) total time=   0.0s\n",
      "[CV 3/5] END max_iter=200, solver=liblinear; accuracy: (test=0.707) f1_macro: (test=0.509) precision: (test=0.723) recall: (test=0.949) total time=   0.0s\n",
      "[CV 4/5] END max_iter=200, solver=liblinear; accuracy: (test=0.750) f1_macro: (test=0.593) precision: (test=0.750) recall: (test=0.970) total time=   0.0s\n",
      "[CV 5/5] END max_iter=200, solver=liblinear; accuracy: (test=0.707) f1_macro: (test=0.493) precision: (test=0.720) recall: (test=0.960) total time=   0.0s\n",
      "[CV 1/5] END max_iter=500, solver=newton-cg; accuracy: (test=0.707) f1_macro: (test=0.523) precision: (test=0.727) recall: (test=0.939) total time=   0.0s\n",
      "[CV 2/5] END max_iter=500, solver=newton-cg; accuracy: (test=0.714) f1_macro: (test=0.497) precision: (test=0.722) recall: (test=0.970) total time=   0.0s\n",
      "[CV 3/5] END max_iter=500, solver=newton-cg; accuracy: (test=0.707) f1_macro: (test=0.509) precision: (test=0.723) recall: (test=0.949) total time=   0.0s\n",
      "[CV 4/5] END max_iter=500, solver=newton-cg; accuracy: (test=0.743) f1_macro: (test=0.575) precision: (test=0.744) recall: (test=0.970) total time=   0.0s\n",
      "[CV 5/5] END max_iter=500, solver=newton-cg; accuracy: (test=0.707) f1_macro: (test=0.493) precision: (test=0.720) recall: (test=0.960) total time=   0.0s\n",
      "[CV 1/5] END max_iter=500, solver=lbfgs; accuracy: (test=0.707) f1_macro: (test=0.523) precision: (test=0.727) recall: (test=0.939) total time=   0.0s\n",
      "[CV 2/5] END max_iter=500, solver=lbfgs; accuracy: (test=0.714) f1_macro: (test=0.497) precision: (test=0.722) recall: (test=0.970) total time=   0.0s\n",
      "[CV 3/5] END max_iter=500, solver=lbfgs; accuracy: (test=0.707) f1_macro: (test=0.509) precision: (test=0.723) recall: (test=0.949) total time=   0.0s\n",
      "[CV 4/5] END max_iter=500, solver=lbfgs; accuracy: (test=0.743) f1_macro: (test=0.575) precision: (test=0.744) recall: (test=0.970) total time=   0.0s\n",
      "[CV 5/5] END max_iter=500, solver=lbfgs; accuracy: (test=0.707) f1_macro: (test=0.493) precision: (test=0.720) recall: (test=0.960) total time=   0.0s\n",
      "[CV 1/5] END max_iter=500, solver=liblinear; accuracy: (test=0.707) f1_macro: (test=0.523) precision: (test=0.727) recall: (test=0.939) total time=   0.0s\n",
      "[CV 2/5] END max_iter=500, solver=liblinear; accuracy: (test=0.714) f1_macro: (test=0.497) precision: (test=0.722) recall: (test=0.970) total time=   0.0s\n",
      "[CV 3/5] END max_iter=500, solver=liblinear; accuracy: (test=0.707) f1_macro: (test=0.509) precision: (test=0.723) recall: (test=0.949) total time=   0.0s\n",
      "[CV 4/5] END max_iter=500, solver=liblinear; accuracy: (test=0.750) f1_macro: (test=0.593) precision: (test=0.750) recall: (test=0.970) total time=   0.0s\n",
      "[CV 5/5] END max_iter=500, solver=liblinear; accuracy: (test=0.707) f1_macro: (test=0.493) precision: (test=0.720) recall: (test=0.960) total time=   0.0s\n",
      "[CV 1/5] END max_iter=1000, solver=newton-cg; accuracy: (test=0.707) f1_macro: (test=0.523) precision: (test=0.727) recall: (test=0.939) total time=   0.0s\n",
      "[CV 2/5] END max_iter=1000, solver=newton-cg; accuracy: (test=0.714) f1_macro: (test=0.497) precision: (test=0.722) recall: (test=0.970) total time=   0.0s\n",
      "[CV 3/5] END max_iter=1000, solver=newton-cg; accuracy: (test=0.707) f1_macro: (test=0.509) precision: (test=0.723) recall: (test=0.949) total time=   0.0s\n",
      "[CV 4/5] END max_iter=1000, solver=newton-cg; accuracy: (test=0.743) f1_macro: (test=0.575) precision: (test=0.744) recall: (test=0.970) total time=   0.0s\n",
      "[CV 5/5] END max_iter=1000, solver=newton-cg; accuracy: (test=0.707) f1_macro: (test=0.493) precision: (test=0.720) recall: (test=0.960) total time=   0.0s\n",
      "[CV 1/5] END max_iter=1000, solver=lbfgs; accuracy: (test=0.707) f1_macro: (test=0.523) precision: (test=0.727) recall: (test=0.939) total time=   0.0s\n",
      "[CV 2/5] END max_iter=1000, solver=lbfgs; accuracy: (test=0.714) f1_macro: (test=0.497) precision: (test=0.722) recall: (test=0.970) total time=   0.0s\n",
      "[CV 3/5] END max_iter=1000, solver=lbfgs; accuracy: (test=0.707) f1_macro: (test=0.509) precision: (test=0.723) recall: (test=0.949) total time=   0.0s\n",
      "[CV 4/5] END max_iter=1000, solver=lbfgs; accuracy: (test=0.743) f1_macro: (test=0.575) precision: (test=0.744) recall: (test=0.970) total time=   0.0s\n",
      "[CV 5/5] END max_iter=1000, solver=lbfgs; accuracy: (test=0.707) f1_macro: (test=0.493) precision: (test=0.720) recall: (test=0.960) total time=   0.0s\n",
      "[CV 1/5] END max_iter=1000, solver=liblinear; accuracy: (test=0.707) f1_macro: (test=0.523) precision: (test=0.727) recall: (test=0.939) total time=   0.0s\n",
      "[CV 2/5] END max_iter=1000, solver=liblinear; accuracy: (test=0.714) f1_macro: (test=0.497) precision: (test=0.722) recall: (test=0.970) total time=   0.0s\n",
      "[CV 3/5] END max_iter=1000, solver=liblinear; accuracy: (test=0.707) f1_macro: (test=0.509) precision: (test=0.723) recall: (test=0.949) total time=   0.0s\n",
      "[CV 4/5] END max_iter=1000, solver=liblinear; accuracy: (test=0.750) f1_macro: (test=0.593) precision: (test=0.750) recall: (test=0.970) total time=   0.0s\n",
      "[CV 5/5] END max_iter=1000, solver=liblinear; accuracy: (test=0.707) f1_macro: (test=0.493) precision: (test=0.720) recall: (test=0.960) total time=   0.0s\n",
      "[CV 1/5] END max_iter=1500, solver=newton-cg; accuracy: (test=0.707) f1_macro: (test=0.523) precision: (test=0.727) recall: (test=0.939) total time=   0.0s\n",
      "[CV 2/5] END max_iter=1500, solver=newton-cg; accuracy: (test=0.714) f1_macro: (test=0.497) precision: (test=0.722) recall: (test=0.970) total time=   0.0s\n",
      "[CV 3/5] END max_iter=1500, solver=newton-cg; accuracy: (test=0.707) f1_macro: (test=0.509) precision: (test=0.723) recall: (test=0.949) total time=   0.0s\n",
      "[CV 4/5] END max_iter=1500, solver=newton-cg; accuracy: (test=0.743) f1_macro: (test=0.575) precision: (test=0.744) recall: (test=0.970) total time=   0.0s\n",
      "[CV 5/5] END max_iter=1500, solver=newton-cg; accuracy: (test=0.707) f1_macro: (test=0.493) precision: (test=0.720) recall: (test=0.960) total time=   0.0s\n",
      "[CV 1/5] END max_iter=1500, solver=lbfgs; accuracy: (test=0.707) f1_macro: (test=0.523) precision: (test=0.727) recall: (test=0.939) total time=   0.0s\n",
      "[CV 2/5] END max_iter=1500, solver=lbfgs; accuracy: (test=0.714) f1_macro: (test=0.497) precision: (test=0.722) recall: (test=0.970) total time=   0.0s\n",
      "[CV 3/5] END max_iter=1500, solver=lbfgs; accuracy: (test=0.707) f1_macro: (test=0.509) precision: (test=0.723) recall: (test=0.949) total time=   0.0s\n"
     ]
    },
    {
     "name": "stdout",
     "output_type": "stream",
     "text": [
      "[CV 4/5] END max_iter=1500, solver=lbfgs; accuracy: (test=0.743) f1_macro: (test=0.575) precision: (test=0.744) recall: (test=0.970) total time=   0.0s\n",
      "[CV 5/5] END max_iter=1500, solver=lbfgs; accuracy: (test=0.707) f1_macro: (test=0.493) precision: (test=0.720) recall: (test=0.960) total time=   0.0s\n",
      "[CV 1/5] END max_iter=1500, solver=liblinear; accuracy: (test=0.707) f1_macro: (test=0.523) precision: (test=0.727) recall: (test=0.939) total time=   0.0s\n",
      "[CV 2/5] END max_iter=1500, solver=liblinear; accuracy: (test=0.714) f1_macro: (test=0.497) precision: (test=0.722) recall: (test=0.970) total time=   0.0s\n",
      "[CV 3/5] END max_iter=1500, solver=liblinear; accuracy: (test=0.707) f1_macro: (test=0.509) precision: (test=0.723) recall: (test=0.949) total time=   0.0s\n",
      "[CV 4/5] END max_iter=1500, solver=liblinear; accuracy: (test=0.750) f1_macro: (test=0.593) precision: (test=0.750) recall: (test=0.970) total time=   0.0s\n",
      "[CV 5/5] END max_iter=1500, solver=liblinear; accuracy: (test=0.707) f1_macro: (test=0.493) precision: (test=0.720) recall: (test=0.960) total time=   0.0s\n",
      "[CV 1/5] END max_iter=2000, solver=newton-cg; accuracy: (test=0.707) f1_macro: (test=0.523) precision: (test=0.727) recall: (test=0.939) total time=   0.0s\n",
      "[CV 2/5] END max_iter=2000, solver=newton-cg; accuracy: (test=0.714) f1_macro: (test=0.497) precision: (test=0.722) recall: (test=0.970) total time=   0.0s\n",
      "[CV 3/5] END max_iter=2000, solver=newton-cg; accuracy: (test=0.707) f1_macro: (test=0.509) precision: (test=0.723) recall: (test=0.949) total time=   0.0s\n",
      "[CV 4/5] END max_iter=2000, solver=newton-cg; accuracy: (test=0.743) f1_macro: (test=0.575) precision: (test=0.744) recall: (test=0.970) total time=   0.0s\n",
      "[CV 5/5] END max_iter=2000, solver=newton-cg; accuracy: (test=0.707) f1_macro: (test=0.493) precision: (test=0.720) recall: (test=0.960) total time=   0.0s\n",
      "[CV 1/5] END max_iter=2000, solver=lbfgs; accuracy: (test=0.707) f1_macro: (test=0.523) precision: (test=0.727) recall: (test=0.939) total time=   0.0s\n",
      "[CV 2/5] END max_iter=2000, solver=lbfgs; accuracy: (test=0.714) f1_macro: (test=0.497) precision: (test=0.722) recall: (test=0.970) total time=   0.0s\n",
      "[CV 3/5] END max_iter=2000, solver=lbfgs; accuracy: (test=0.707) f1_macro: (test=0.509) precision: (test=0.723) recall: (test=0.949) total time=   0.0s\n",
      "[CV 4/5] END max_iter=2000, solver=lbfgs; accuracy: (test=0.743) f1_macro: (test=0.575) precision: (test=0.744) recall: (test=0.970) total time=   0.0s\n",
      "[CV 5/5] END max_iter=2000, solver=lbfgs; accuracy: (test=0.707) f1_macro: (test=0.493) precision: (test=0.720) recall: (test=0.960) total time=   0.0s\n",
      "[CV 1/5] END max_iter=2000, solver=liblinear; accuracy: (test=0.707) f1_macro: (test=0.523) precision: (test=0.727) recall: (test=0.939) total time=   0.0s\n",
      "[CV 2/5] END max_iter=2000, solver=liblinear; accuracy: (test=0.714) f1_macro: (test=0.497) precision: (test=0.722) recall: (test=0.970) total time=   0.0s\n",
      "[CV 3/5] END max_iter=2000, solver=liblinear; accuracy: (test=0.707) f1_macro: (test=0.509) precision: (test=0.723) recall: (test=0.949) total time=   0.0s\n",
      "[CV 4/5] END max_iter=2000, solver=liblinear; accuracy: (test=0.750) f1_macro: (test=0.593) precision: (test=0.750) recall: (test=0.970) total time=   0.0s\n",
      "[CV 5/5] END max_iter=2000, solver=liblinear; accuracy: (test=0.707) f1_macro: (test=0.493) precision: (test=0.720) recall: (test=0.960) total time=   0.0s\n",
      "The best parameters for evaluation are as per following:\n",
      "{'max_iter': 200, 'solver': 'liblinear'}\n",
      "The accuracy of the best model is: 0.72\n"
     ]
    }
   ],
   "source": [
    "# Defining parameter range of GridSearchCV\n",
    "parameters ={'solver': ['newton-cg','lbfgs','liblinear'],\n",
    "               'max_iter':[200,500,1000,1500,2000]}\n",
    "grid = GridSearchCV(estimator=LogisticRegression(), param_grid=parameters, \n",
    "                    scoring=['accuracy', 'precision', 'recall','f1_macro'],\n",
    "                    refit='accuracy', cv=5, verbose=5,error_score='raise')\n",
    "\n",
    "# fitting the model for grid search\n",
    "grid.fit(X_train, y_train)\n",
    "best_model = grid.best_estimator_\n",
    "print ('The best parameters for evaluation are as per following:')\n",
    "print (grid.best_params_)\n",
    "print(\"The accuracy of the best model is: %0.2f\" % grid.best_score_)"
   ]
  },
  {
   "cell_type": "code",
   "execution_count": 6,
   "id": "e82ecb48",
   "metadata": {},
   "outputs": [
    {
     "name": "stdout",
     "output_type": "stream",
     "text": [
      "Logistic Regression Accuracy: 68.33%\n",
      "\n",
      "Confusion Matrix: \n",
      " [[198   7]\n",
      " [ 88   7]]\n"
     ]
    }
   ],
   "source": [
    "learner = LogisticRegression(max_iter=200, solver='liblinear')\n",
    "learner.fit(X_train, y_train)\n",
    "\n",
    "predictions = learner.predict(X_test)\n",
    "print(\"Logistic Regression Accuracy: %0.2f\" %(100 * accuracy_score(y_test,predictions)) + \"%\")\n",
    "print(\"\\nConfusion Matrix: \\n\", confusion_matrix(y_test, predictions))"
   ]
  },
  {
   "cell_type": "code",
   "execution_count": 7,
   "id": "9b458c21",
   "metadata": {},
   "outputs": [
    {
     "name": "stdout",
     "output_type": "stream",
     "text": [
      "Statistical Parity Difference: -0.1320\n",
      "Equal opportunity difference:  -0.0882\n",
      "Average of difference:         -0.1535\n",
      "Balanced accuracy:              0.5198\n",
      "Disparate Impact:               0.8674\n"
     ]
    }
   ],
   "source": [
    "test_pred = test.copy()\n",
    "test_pred.labels = predictions\n",
    "\n",
    "\n",
    "metric=ClassificationMetric(test,test_pred,unprivileged_groups=unprivileged_groups,privileged_groups=privileged_groups)\n",
    "\n",
    "print(\"Statistical Parity Difference: %0.4f\" % metric.statistical_parity_difference())\n",
    "print(\"Equal opportunity difference:  %0.4f\" % metric.equal_opportunity_difference())\n",
    "print(\"Average of difference:         %0.4f\" % metric.average_odds_difference())\n",
    "print(\"Balanced accuracy:              %0.4f\" % ((metric.true_positive_rate() + metric.true_negative_rate()) / 2))\n",
    "print(\"Disparate Impact:               %0.4f\" % metric.disparate_impact())"
   ]
  },
  {
   "cell_type": "markdown",
   "id": "c879556b",
   "metadata": {},
   "source": [
    "# TASK 2"
   ]
  },
  {
   "cell_type": "code",
   "execution_count": 8,
   "id": "79aaa816",
   "metadata": {
    "scrolled": true
   },
   "outputs": [
    {
     "name": "stderr",
     "output_type": "stream",
     "text": [
      "100%|██████████████████████████████████████████████████████████████████████████████████| 11/11 [00:01<00:00, 10.15it/s]\n"
     ]
    }
   ],
   "source": [
    "# Metric scores\n",
    "accuracy_list = [] # accuracy\n",
    "spd_list = [] # statistical parity difference\n",
    "di_list = []  # disparate impact\n",
    "fprd_list = [] # false positive rate difference\n",
    "fnrd_list = [] # false negative rate difference\n",
    "errd_list = [] # error rate difference\n",
    "tprd_list=[]\n",
    "\n",
    "# Experiment with different repair levels\n",
    "for level in tqdm(np.arange(0., 1.1, 0.1)):\n",
    "    # Algorithms for bias removal\n",
    "    di_remover = DisparateImpactRemover(repair_level=level, sensitive_attribute='sex')\n",
    "\n",
    "    # Repaired versions of train and test dataset objects\n",
    "    ad_train_rep = di_remover.fit_transform(train)\n",
    "    ad_test_rep = di_remover.fit_transform(test)\n",
    "\n",
    "    # Construct X_train, X_test, y_train and y_test\n",
    "    X_train = np.delete(ad_train_rep.features, protected_idx, axis=1)\n",
    "    X_test = np.delete(ad_test_rep.features, protected_idx, axis=1)\n",
    "    y_train = ad_train_rep.labels.ravel()\n",
    "    y_test = ad_test_rep.labels.ravel()\n",
    "\n",
    "    # Training and prediction\n",
    "    learner.fit(X_train, y_train) # fit\n",
    "    ad_test_rep_pred = ad_test_rep.copy() # need both dataset objects due to their different labels\n",
    "    ad_test_rep_pred.labels = learner.predict(X_test) # prediction\n",
    "\n",
    "    # Dataset metric\n",
    "    dm = BinaryLabelDatasetMetric(ad_test_rep_pred, privileged_groups=privileged_groups, unprivileged_groups=unprivileged_groups)\n",
    "    di_list.append(dm.disparate_impact())\n",
    "    # Classification metric\n",
    "    cm = ClassificationMetric(ad_test_rep, ad_test_rep_pred, privileged_groups=privileged_groups, unprivileged_groups=unprivileged_groups)\n",
    "    # Metric calculations\n",
    "    accuracy_list.append(cm.accuracy())\n",
    "    fprd_list.append(cm.false_positive_rate_difference())\n",
    "    fnrd_list.append(cm.false_negative_rate_difference())\n",
    "    errd_list.append(cm.error_rate_difference())\n",
    "    tprd_list.append(cm.true_positive_rate_difference())\n",
    "    spd_list.append(cm.mean_difference())"
   ]
  },
  {
   "cell_type": "code",
   "execution_count": 9,
   "id": "51887534",
   "metadata": {
    "scrolled": true
   },
   "outputs": [
    {
     "name": "stderr",
     "output_type": "stream",
     "text": [
      "Matplotlib is currently using agg, which is a non-GUI backend, so cannot show the figure.\n"
     ]
    },
    {
     "data": {
      "image/png": "[encoded data removed]",
      "text/plain": [
       "<Figure size 1080x360 with 2 Axes>"
      ]
     },
     "metadata": {
      "needs_background": "light"
     },
     "output_type": "display_data"
    }
   ],
   "source": [
    "# Visualization of results\n",
    "fig, (ax1, ax2) = plt.subplots(1, 2, figsize=(15,5)) # [1 x 2] grid\n",
    "ax1.plot(np.arange(0., 1.1, 0.1), di_list, marker='o')\n",
    "ax1.plot(np.arange(0., 1.1, 0.1), accuracy_list, marker='x')\n",
    "ax1.set_xlabel('Repair level')\n",
    "ax1.legend(['Disparate impact', 'Accuracy'])\n",
    "ax1.set_title('Disparate impact vs accuracy')\n",
    "ax2.plot(np.arange(0., 1.1, 0.1), fprd_list, marker='o')\n",
    "ax2.plot(np.arange(0., 1.1, 0.1), fnrd_list, marker='s')\n",
    "ax2.plot(np.arange(0., 1.1, 0.1), errd_list, marker='*')\n",
    "ax2.plot(np.arange(0., 1.1, 0.1), tprd_list, marker='o')\n",
    "ax2.set_xlabel('Repair level')\n",
    "ax2.legend(['FPRD', 'FNRD', 'ERRD', 'TPRD'])\n",
    "ax2.set_title('Differences of (mis)classification rates')\n",
    "plt.show()"
   ]
  },
  {
   "cell_type": "markdown",
   "id": "61cc9187",
   "metadata": {},
   "source": [
    "No change is observed in the graphs. This is because changing the repair level isn't causing a change in the disparate impact. But the disparate impact is pretty good at nearly 0.94. A Disparate Impact value close to 1 means that the bias is not much."
   ]
  },
  {
   "cell_type": "code",
   "execution_count": 10,
   "id": "349ca114",
   "metadata": {
    "scrolled": false
   },
   "outputs": [
    {
     "name": "stdout",
     "output_type": "stream",
     "text": [
      "Base rate on entire population: 0.92\n",
      "Base rate on privileged group (males) :0.94\n",
      "Base rate on unprivileged group (females) :0.88\n",
      "Statistical parity difference: -0.06\n",
      "Disparate impact: 0.94\n"
     ]
    },
    {
     "name": "stderr",
     "output_type": "stream",
     "text": [
      "Matplotlib is currently using agg, which is a non-GUI backend, so cannot show the figure.\n"
     ]
    },
    {
     "data": {
      "image/png": "[encoded data removed]",
      "text/plain": [
       "<Figure size 864x360 with 2 Axes>"
      ]
     },
     "metadata": {
      "needs_background": "light"
     },
     "output_type": "display_data"
    }
   ],
   "source": [
    "# Visualize bias in repaired test set\n",
    "\n",
    "# Create dataframe from test set\n",
    "sex = ad_test_rep_pred.features[:,protected_idx]\n",
    "inc = ad_test_rep_pred.labels\n",
    "ad_test_rep_pred_df = pd.DataFrame({'sex':sex, 'credit':inc})\n",
    "# Call fairness analysis function\n",
    "analyze_fairness(ad_test_rep_pred, ad_test_rep_pred_df)"
   ]
  },
  {
   "cell_type": "markdown",
   "id": "4bd0f562",
   "metadata": {},
   "source": [
    "# TASK 3"
   ]
  },
  {
   "cell_type": "code",
   "execution_count": null,
   "id": "187eea93",
   "metadata": {},
   "outputs": [],
   "source": [
    "model_1 = learner.fit(X_train,y_train)\n",
    "report.compare(X_test, y_test, X_train['sex'], model_1, pred_type=\"regression\")"
   ]
  }
 ],
 "metadata": {
  "kernelspec": {
   "display_name": "Python 3",
   "language": "python",
   "name": "python3"
  },
  "language_info": {
   "codemirror_mode": {
    "name": "ipython",
    "version": 3
   },
   "file_extension": ".py",
   "mimetype": "text/x-python",
   "name": "python",
   "nbconvert_exporter": "python",
   "pygments_lexer": "ipython3",
   "version": "3.8.8"
  }
 },
 "nbformat": 4,
 "nbformat_minor": 5
}
