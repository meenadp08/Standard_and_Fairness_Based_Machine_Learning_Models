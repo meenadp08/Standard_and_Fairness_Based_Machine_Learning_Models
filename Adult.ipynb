{
 "cells": [
  {
   "cell_type": "code",
   "execution_count": 1,
   "id": "1d983c9c",
   "metadata": {},
   "outputs": [],
   "source": [
    "#!pip install imblearn\n",
    "#!pip install sklearn-pandas\n",
    "#!pip install fairlearn\n",
    "#!pip install https://github.com/adebayoj/fairml/archive/master.zip"
   ]
  },
  {
   "cell_type": "markdown",
   "id": "1505f9a9",
   "metadata": {},
   "source": [
    "### IMPORTING LIBRARIES"
   ]
  },
  {
   "cell_type": "code",
   "execution_count": 2,
   "id": "67014fb4",
   "metadata": {},
   "outputs": [],
   "source": [
    "import numpy as np\n",
    "import pandas as pd\n",
    "from tqdm import tqdm\n",
    "from pandas.api.types import CategoricalDtype\n",
    "\n",
    "import regex as re\n",
    "\n",
    "import seaborn as sns\n",
    "import matplotlib.pyplot as plt\n",
    "\n",
    "%matplotlib inline\n",
    "\n",
    "from fairmlhealth import report, measure\n",
    "\n",
    "#import sklearn.metrics\n",
    "from sklearn.preprocessing import MinMaxScaler, OneHotEncoder, StandardScaler\n",
    "from sklearn.model_selection import cross_validate, train_test_split\n",
    "from sklearn.metrics import roc_curve, auc, precision_recall_curve, plot_roc_curve\n",
    "from sklearn.metrics import accuracy_score, classification_report, confusion_matrix\n",
    "from sklearn.model_selection import GridSearchCV\n",
    "\n",
    "# Algorithm Imports\n",
    "from sklearn.linear_model import LogisticRegression\n",
    "\n",
    "# Imbalanced Data\n",
    "from imblearn.pipeline import Pipeline\n",
    "from imblearn.over_sampling import SMOTE\n",
    "from imblearn.under_sampling import RandomUnderSampler\n",
    "\n",
    "# AIF360 Imports\n",
    "from aif360.datasets import AdultDataset\n",
    "from aif360.algorithms.preprocessing import DisparateImpactRemover\n",
    "from aif360.metrics import ClassificationMetric, BinaryLabelDatasetMetric\n",
    "from aif360.algorithms.preprocessing.optim_preproc_helpers.data_preproc_functions import load_preproc_data_adult\n",
    "\n",
    "from datetime import datetime\n",
    "from warnings import filterwarnings\n",
    "filterwarnings(action='ignore')\n",
    "\n",
    "pd.set_option('display.max_columns', 500)"
   ]
  },
  {
   "cell_type": "code",
   "execution_count": 3,
   "id": "b03bb89c",
   "metadata": {},
   "outputs": [
    {
     "name": "stdout",
     "output_type": "stream",
     "text": [
      "Features: ['age', 'education-num', 'sex', 'capital-gain', 'capital-loss', 'hours-per-week']\n",
      "Target: ['income-per-year']\n"
     ]
    }
   ],
   "source": [
    "# Feature categories\n",
    "protected = 'sex'\n",
    "privileged = ['Male']\n",
    "privileged_groups = [{protected: 1}] # privileged group (males)\n",
    "unprivileged_groups = [{protected: 0}] # unprivileged group (females)\n",
    "\n",
    "# Numerical Features\n",
    "num_features = ['age', 'education-num', 'capital-gain', 'capital-loss', 'hours-per-week']\n",
    "# Categorical Features\n",
    "cat_features = ['workclass', 'education', 'marital-status', 'occupation', 'relationship', 'race', 'native-country']\n",
    "\n",
    "# Dataset instantiation\n",
    "adult = AdultDataset(\n",
    "        protected_attribute_names=[protected],\n",
    "        privileged_classes=[privileged],\n",
    "        categorical_features=[],\n",
    "        features_to_keep=num_features)\n",
    "\n",
    "# Verify that the dataset was initialized properly\n",
    "print('Features:', adult.feature_names)\n",
    "print('Target:', adult.label_names)"
   ]
  },
  {
   "cell_type": "markdown",
   "id": "d30f55fb",
   "metadata": {},
   "source": [
    "## EDA"
   ]
  },
  {
   "cell_type": "code",
   "execution_count": 4,
   "id": "28763a8e",
   "metadata": {
    "scrolled": true
   },
   "outputs": [
    {
     "name": "stdout",
     "output_type": "stream",
     "text": [
      "Base rate on entire population: 0.24\n",
      "Base rate on privileged group (males) :0.30\n",
      "Base rate on unprivileged group (females) :0.11\n",
      "Statistical parity difference: -0.19\n",
      "Disparate impact: 0.36\n"
     ]
    },
    {
     "data": {
      "image/png": "[encoded data removed]",
      "text/plain": [
       "<Figure size 864x360 with 2 Axes>"
      ]
     },
     "metadata": {
      "needs_background": "light"
     },
     "output_type": "display_data"
    }
   ],
   "source": [
    "# Fairness-based exploratory data analysis\n",
    "\n",
    "def analyze_fairness(dataset, data):\n",
    "    # Separate income by group\n",
    "    female_income = data[data['sex'] == 0]['income-per-year'] # female == 0\n",
    "    male_income = data[data['sex'] == 1]['income-per-year'] # male == 1\n",
    "    # Dataset metrics\n",
    "    dm = BinaryLabelDatasetMetric(dataset, privileged_groups=privileged_groups, unprivileged_groups=unprivileged_groups)\n",
    "    print('Base rate on entire population: {:.2f}'.format(dm.base_rate())) # privileged = None\n",
    "    print('Base rate on privileged group (males) :{:.2f}'.format(dm.base_rate(privileged=True)))\n",
    "    print('Base rate on unprivileged group (females) :{:.2f}'.format(dm.base_rate(privileged=False)))\n",
    "    print('Statistical parity difference: {:.2f}'.format(dm.mean_difference()))\n",
    "    print('Disparate impact: {:.2f}'.format(dm.disparate_impact()))\n",
    "    # Plots\n",
    "    fig, (ax1, ax2) = plt.subplots(1, 2, figsize=(12,5)) # [1 x 2] grid\n",
    "    ax1.bar(['<=50k', '>50k'], male_income.value_counts(), label='Male')\n",
    "    ax1.bar(['<=50k', '>50k'], female_income.value_counts(), bottom=male_income.value_counts(), label='Female')\n",
    "    ax1.set_xlabel('Income')\n",
    "    ax1.set_ylabel('Count')\n",
    "    ax1.set_title('Annual income grouped by sex')\n",
    "    ax1.legend()\n",
    "    ax2_y = data.groupby('sex')['income-per-year'].mean().sort_values(ascending=False)\n",
    "    ax2_y.plot.bar(x=['Male', 'Female'], color=['#1f77b4', '#ff7f0e'], ylim=[0, 1])\n",
    "    ax2.set_ylabel('Probability of income > 50k')\n",
    "    ax2.set_title('Probability of income > 50k grouped by sex')\n",
    "    ax2.set_xticklabels(['Male', 'Female'])\n",
    "    for i, v in enumerate(ax2_y):\n",
    "        ax2.text(i-0.07, v+0.02, '{:.2f}'.format(v))\n",
    "    plt.show()\n",
    "\n",
    "# Convert dataset to dataframe\n",
    "adult_df, _ = adult.convert_to_dataframe()\n",
    "# Call function\n",
    "analyze_fairness(adult, adult_df)"
   ]
  },
  {
   "cell_type": "markdown",
   "id": "72d07650",
   "metadata": {},
   "source": [
    "### OBESRVATION\n",
    "- The **'sex'** attribute is dominated by 'Male' with 67% compared to 'Female' values with 33%. Note: the dominance of 'Male' value does not by itself indicate bias/unfair treatment.\n",
    "- The percentage of males with income > 50k w.r.t. total sample is 20%. The respective percentage of females is 4%.\n",
    "- The within-class percentage of females with income > 50k is 11%. The respective percentage for males is 30%.\n",
    "- A number of fairness metrics were calculated for the dataset at hand. More specifically, **statistical parity difference** and **disparate impact** indicate the existence of bias in the dataset.\n",
    "\n",
    "Note: **Base rate** is defined as $P(Y=1) = P/(P+N)$, optionally conditioned on protected attribute."
   ]
  },
  {
   "cell_type": "code",
   "execution_count": 5,
   "id": "fdefda79",
   "metadata": {},
   "outputs": [
    {
     "name": "stdout",
     "output_type": "stream",
     "text": [
      "Training set dimensions: (34189, 6)\n",
      "Test set dimensions: (14653, 6)\n"
     ]
    }
   ],
   "source": [
    "# Train Test Split\n",
    "train, test = adult.split([0.7]) # 0.7 for train, 0.3 for test\n",
    "\n",
    "# Feature scaling\n",
    "scaler = MinMaxScaler() # choose min-max scaling\n",
    "X_train = scaler.fit_transform(train.features)\n",
    "y_train = train.labels.ravel()\n",
    "\n",
    "X_test = scaler.transform(test.features) \n",
    "y_test = test.labels.ravel()\n",
    "train.features = scaler.fit_transform(train.features) # fit and transform train (seen) features\n",
    "test.features = scaler.transform(test.features) # transform test (unseen) features\n",
    "\n",
    "# Keep index of the protected attribute\n",
    "protected_idx = train.feature_names.index(protected)\n",
    "# Verify training and test set dimensions\n",
    "print('Training set dimensions:', train.features.shape)\n",
    "print('Test set dimensions:', test.features.shape)"
   ]
  },
  {
   "cell_type": "markdown",
   "id": "4f6458a1",
   "metadata": {},
   "source": [
    "# TASK 1"
   ]
  },
  {
   "cell_type": "markdown",
   "id": "a28b786c",
   "metadata": {},
   "source": [
    "### FIVE FOLD CROSS VALIDATION"
   ]
  },
  {
   "cell_type": "code",
   "execution_count": 6,
   "id": "8efa60de",
   "metadata": {},
   "outputs": [
    {
     "name": "stdout",
     "output_type": "stream",
     "text": [
      "Fitting 5 folds for each of 8 candidates, totalling 40 fits\n",
      "[CV 1/5] END random_state=0, solver=liblinear; accuracy: (test=0.819) f1_macro: (test=0.699) precision: (test=0.714) recall: (test=0.397) roc_auc: (test=0.841) total time=   0.0s\n",
      "[CV 2/5] END random_state=0, solver=liblinear; accuracy: (test=0.815) f1_macro: (test=0.697) precision: (test=0.694) recall: (test=0.400) roc_auc: (test=0.835) total time=   0.0s\n",
      "[CV 3/5] END random_state=0, solver=liblinear; accuracy: (test=0.820) f1_macro: (test=0.702) precision: (test=0.716) recall: (test=0.401) roc_auc: (test=0.838) total time=   0.0s\n",
      "[CV 4/5] END random_state=0, solver=liblinear; accuracy: (test=0.821) f1_macro: (test=0.707) precision: (test=0.717) recall: (test=0.412) roc_auc: (test=0.840) total time=   0.0s\n",
      "[CV 5/5] END random_state=0, solver=liblinear; accuracy: (test=0.820) f1_macro: (test=0.703) precision: (test=0.714) recall: (test=0.405) roc_auc: (test=0.845) total time=   0.0s\n",
      "[CV 1/5] END random_state=0, solver=newton-cg; accuracy: (test=0.819) f1_macro: (test=0.700) precision: (test=0.714) recall: (test=0.397) roc_auc: (test=0.841) total time=   0.0s\n",
      "[CV 2/5] END random_state=0, solver=newton-cg; accuracy: (test=0.817) f1_macro: (test=0.700) precision: (test=0.695) recall: (test=0.407) roc_auc: (test=0.835) total time=   0.0s\n",
      "[CV 3/5] END random_state=0, solver=newton-cg; accuracy: (test=0.819) f1_macro: (test=0.702) precision: (test=0.713) recall: (test=0.402) roc_auc: (test=0.837) total time=   0.0s\n",
      "[CV 4/5] END random_state=0, solver=newton-cg; accuracy: (test=0.821) f1_macro: (test=0.707) precision: (test=0.715) recall: (test=0.413) roc_auc: (test=0.840) total time=   0.0s\n",
      "[CV 5/5] END random_state=0, solver=newton-cg; accuracy: (test=0.820) f1_macro: (test=0.703) precision: (test=0.711) recall: (test=0.407) roc_auc: (test=0.844) total time=   0.1s\n",
      "[CV 1/5] END random_state=1, solver=liblinear; accuracy: (test=0.819) f1_macro: (test=0.699) precision: (test=0.714) recall: (test=0.397) roc_auc: (test=0.841) total time=   0.0s\n",
      "[CV 2/5] END random_state=1, solver=liblinear; accuracy: (test=0.815) f1_macro: (test=0.697) precision: (test=0.694) recall: (test=0.400) roc_auc: (test=0.835) total time=   0.0s\n",
      "[CV 3/5] END random_state=1, solver=liblinear; accuracy: (test=0.820) f1_macro: (test=0.702) precision: (test=0.716) recall: (test=0.401) roc_auc: (test=0.838) total time=   0.0s\n",
      "[CV 4/5] END random_state=1, solver=liblinear; accuracy: (test=0.821) f1_macro: (test=0.707) precision: (test=0.717) recall: (test=0.412) roc_auc: (test=0.840) total time=   0.0s\n",
      "[CV 5/5] END random_state=1, solver=liblinear; accuracy: (test=0.820) f1_macro: (test=0.703) precision: (test=0.714) recall: (test=0.405) roc_auc: (test=0.845) total time=   0.0s\n",
      "[CV 1/5] END random_state=1, solver=newton-cg; accuracy: (test=0.819) f1_macro: (test=0.700) precision: (test=0.714) recall: (test=0.397) roc_auc: (test=0.841) total time=   0.0s\n",
      "[CV 2/5] END random_state=1, solver=newton-cg; accuracy: (test=0.817) f1_macro: (test=0.700) precision: (test=0.695) recall: (test=0.407) roc_auc: (test=0.835) total time=   0.0s\n",
      "[CV 3/5] END random_state=1, solver=newton-cg; accuracy: (test=0.819) f1_macro: (test=0.702) precision: (test=0.713) recall: (test=0.402) roc_auc: (test=0.837) total time=   0.0s\n",
      "[CV 4/5] END random_state=1, solver=newton-cg; accuracy: (test=0.821) f1_macro: (test=0.707) precision: (test=0.715) recall: (test=0.413) roc_auc: (test=0.840) total time=   0.0s\n",
      "[CV 5/5] END random_state=1, solver=newton-cg; accuracy: (test=0.820) f1_macro: (test=0.703) precision: (test=0.711) recall: (test=0.407) roc_auc: (test=0.844) total time=   0.1s\n",
      "[CV 1/5] END random_state=2, solver=liblinear; accuracy: (test=0.819) f1_macro: (test=0.699) precision: (test=0.714) recall: (test=0.397) roc_auc: (test=0.841) total time=   0.0s\n",
      "[CV 2/5] END random_state=2, solver=liblinear; accuracy: (test=0.815) f1_macro: (test=0.697) precision: (test=0.694) recall: (test=0.400) roc_auc: (test=0.835) total time=   0.0s\n",
      "[CV 3/5] END random_state=2, solver=liblinear; accuracy: (test=0.820) f1_macro: (test=0.702) precision: (test=0.716) recall: (test=0.401) roc_auc: (test=0.838) total time=   0.0s\n",
      "[CV 4/5] END random_state=2, solver=liblinear; accuracy: (test=0.821) f1_macro: (test=0.707) precision: (test=0.717) recall: (test=0.412) roc_auc: (test=0.840) total time=   0.0s\n",
      "[CV 5/5] END random_state=2, solver=liblinear; accuracy: (test=0.820) f1_macro: (test=0.703) precision: (test=0.714) recall: (test=0.405) roc_auc: (test=0.845) total time=   0.0s\n",
      "[CV 1/5] END random_state=2, solver=newton-cg; accuracy: (test=0.819) f1_macro: (test=0.700) precision: (test=0.714) recall: (test=0.397) roc_auc: (test=0.841) total time=   0.0s\n",
      "[CV 2/5] END random_state=2, solver=newton-cg; accuracy: (test=0.817) f1_macro: (test=0.700) precision: (test=0.695) recall: (test=0.407) roc_auc: (test=0.835) total time=   0.0s\n",
      "[CV 3/5] END random_state=2, solver=newton-cg; accuracy: (test=0.819) f1_macro: (test=0.702) precision: (test=0.713) recall: (test=0.402) roc_auc: (test=0.837) total time=   0.0s\n",
      "[CV 4/5] END random_state=2, solver=newton-cg; accuracy: (test=0.821) f1_macro: (test=0.707) precision: (test=0.715) recall: (test=0.413) roc_auc: (test=0.840) total time=   0.0s\n",
      "[CV 5/5] END random_state=2, solver=newton-cg; accuracy: (test=0.820) f1_macro: (test=0.703) precision: (test=0.711) recall: (test=0.407) roc_auc: (test=0.844) total time=   0.1s\n",
      "[CV 1/5] END random_state=3, solver=liblinear; accuracy: (test=0.819) f1_macro: (test=0.699) precision: (test=0.714) recall: (test=0.397) roc_auc: (test=0.841) total time=   0.0s\n",
      "[CV 2/5] END random_state=3, solver=liblinear; accuracy: (test=0.815) f1_macro: (test=0.697) precision: (test=0.694) recall: (test=0.400) roc_auc: (test=0.835) total time=   0.0s\n",
      "[CV 3/5] END random_state=3, solver=liblinear; accuracy: (test=0.820) f1_macro: (test=0.702) precision: (test=0.716) recall: (test=0.401) roc_auc: (test=0.838) total time=   0.0s\n",
      "[CV 4/5] END random_state=3, solver=liblinear; accuracy: (test=0.821) f1_macro: (test=0.707) precision: (test=0.717) recall: (test=0.412) roc_auc: (test=0.840) total time=   0.0s\n",
      "[CV 5/5] END random_state=3, solver=liblinear; accuracy: (test=0.820) f1_macro: (test=0.703) precision: (test=0.714) recall: (test=0.405) roc_auc: (test=0.845) total time=   0.0s\n",
      "[CV 1/5] END random_state=3, solver=newton-cg; accuracy: (test=0.819) f1_macro: (test=0.700) precision: (test=0.714) recall: (test=0.397) roc_auc: (test=0.841) total time=   0.0s\n",
      "[CV 2/5] END random_state=3, solver=newton-cg; accuracy: (test=0.817) f1_macro: (test=0.700) precision: (test=0.695) recall: (test=0.407) roc_auc: (test=0.835) total time=   0.0s\n",
      "[CV 3/5] END random_state=3, solver=newton-cg; accuracy: (test=0.819) f1_macro: (test=0.702) precision: (test=0.713) recall: (test=0.402) roc_auc: (test=0.837) total time=   0.0s\n",
      "[CV 4/5] END random_state=3, solver=newton-cg; accuracy: (test=0.821) f1_macro: (test=0.707) precision: (test=0.715) recall: (test=0.413) roc_auc: (test=0.840) total time=   0.0s\n",
      "[CV 5/5] END random_state=3, solver=newton-cg; accuracy: (test=0.820) f1_macro: (test=0.703) precision: (test=0.711) recall: (test=0.407) roc_auc: (test=0.844) total time=   0.1s\n",
      "\n",
      "The best parameters for evaluation are as per following:\n",
      "{'random_state': 0, 'solver': 'newton-cg'}\n",
      "\n",
      "The Accuracy of the best model is: 81.92\n"
     ]
    }
   ],
   "source": [
    "# Finding the best accuracy parameters in Logistic Regression\n",
    "parameters ={'solver':['liblinear','newton-cg'],'random_state':[0,1,2,3]}\n",
    "\n",
    "lr_cv = GridSearchCV(estimator=LogisticRegression(), param_grid=parameters,\n",
    "                     scoring=['accuracy','precision','recall','f1_macro','roc_auc'],\n",
    "                     refit='accuracy', cv=5, verbose=5, error_score='raise')\n",
    "\n",
    "# Fitting the model for grid search\n",
    "lr_cv.fit(X_train, y_train)\n",
    "best_lr_model = lr_cv.best_estimator_\n",
    "print ('\\nThe best parameters for evaluation are as per following:')\n",
    "print (lr_cv.best_params_)\n",
    "print(\"\\nThe Accuracy of the best model is: %0.2f\" % (100*lr_cv.best_score_))"
   ]
  },
  {
   "cell_type": "code",
   "execution_count": 7,
   "id": "7770ffa9",
   "metadata": {
    "scrolled": true
   },
   "outputs": [
    {
     "name": "stdout",
     "output_type": "stream",
     "text": [
      "Fitting 5 folds for each of 8 candidates, totalling 40 fits\n",
      "[CV 1/5] END random_state=0, solver=liblinear; accuracy: (test=0.819) f1_macro: (test=0.699) precision: (test=0.714) recall: (test=0.397) roc_auc: (test=0.841) total time=   0.0s\n",
      "[CV 2/5] END random_state=0, solver=liblinear; accuracy: (test=0.815) f1_macro: (test=0.697) precision: (test=0.694) recall: (test=0.400) roc_auc: (test=0.835) total time=   0.0s\n",
      "[CV 3/5] END random_state=0, solver=liblinear; accuracy: (test=0.820) f1_macro: (test=0.702) precision: (test=0.716) recall: (test=0.401) roc_auc: (test=0.838) total time=   0.0s\n",
      "[CV 4/5] END random_state=0, solver=liblinear; accuracy: (test=0.821) f1_macro: (test=0.707) precision: (test=0.717) recall: (test=0.412) roc_auc: (test=0.840) total time=   0.0s\n",
      "[CV 5/5] END random_state=0, solver=liblinear; accuracy: (test=0.820) f1_macro: (test=0.703) precision: (test=0.714) recall: (test=0.405) roc_auc: (test=0.845) total time=   0.0s\n",
      "[CV 1/5] END random_state=0, solver=newton-cg; accuracy: (test=0.819) f1_macro: (test=0.700) precision: (test=0.714) recall: (test=0.397) roc_auc: (test=0.841) total time=   0.0s\n",
      "[CV 2/5] END random_state=0, solver=newton-cg; accuracy: (test=0.817) f1_macro: (test=0.700) precision: (test=0.695) recall: (test=0.407) roc_auc: (test=0.835) total time=   0.0s\n",
      "[CV 3/5] END random_state=0, solver=newton-cg; accuracy: (test=0.819) f1_macro: (test=0.702) precision: (test=0.713) recall: (test=0.402) roc_auc: (test=0.837) total time=   0.0s\n",
      "[CV 4/5] END random_state=0, solver=newton-cg; accuracy: (test=0.821) f1_macro: (test=0.707) precision: (test=0.715) recall: (test=0.413) roc_auc: (test=0.840) total time=   0.0s\n",
      "[CV 5/5] END random_state=0, solver=newton-cg; accuracy: (test=0.820) f1_macro: (test=0.703) precision: (test=0.711) recall: (test=0.407) roc_auc: (test=0.844) total time=   0.1s\n",
      "[CV 1/5] END random_state=1, solver=liblinear; accuracy: (test=0.819) f1_macro: (test=0.699) precision: (test=0.714) recall: (test=0.397) roc_auc: (test=0.841) total time=   0.0s\n",
      "[CV 2/5] END random_state=1, solver=liblinear; accuracy: (test=0.815) f1_macro: (test=0.697) precision: (test=0.694) recall: (test=0.400) roc_auc: (test=0.835) total time=   0.0s\n",
      "[CV 3/5] END random_state=1, solver=liblinear; accuracy: (test=0.820) f1_macro: (test=0.702) precision: (test=0.716) recall: (test=0.401) roc_auc: (test=0.838) total time=   0.0s\n",
      "[CV 4/5] END random_state=1, solver=liblinear; accuracy: (test=0.821) f1_macro: (test=0.707) precision: (test=0.717) recall: (test=0.412) roc_auc: (test=0.840) total time=   0.0s\n",
      "[CV 5/5] END random_state=1, solver=liblinear; accuracy: (test=0.820) f1_macro: (test=0.703) precision: (test=0.714) recall: (test=0.405) roc_auc: (test=0.845) total time=   0.0s\n",
      "[CV 1/5] END random_state=1, solver=newton-cg; accuracy: (test=0.819) f1_macro: (test=0.700) precision: (test=0.714) recall: (test=0.397) roc_auc: (test=0.841) total time=   0.0s\n",
      "[CV 2/5] END random_state=1, solver=newton-cg; accuracy: (test=0.817) f1_macro: (test=0.700) precision: (test=0.695) recall: (test=0.407) roc_auc: (test=0.835) total time=   0.0s\n",
      "[CV 3/5] END random_state=1, solver=newton-cg; accuracy: (test=0.819) f1_macro: (test=0.702) precision: (test=0.713) recall: (test=0.402) roc_auc: (test=0.837) total time=   0.0s\n",
      "[CV 4/5] END random_state=1, solver=newton-cg; accuracy: (test=0.821) f1_macro: (test=0.707) precision: (test=0.715) recall: (test=0.413) roc_auc: (test=0.840) total time=   0.0s\n",
      "[CV 5/5] END random_state=1, solver=newton-cg; accuracy: (test=0.820) f1_macro: (test=0.703) precision: (test=0.711) recall: (test=0.407) roc_auc: (test=0.844) total time=   0.1s\n",
      "[CV 1/5] END random_state=2, solver=liblinear; accuracy: (test=0.819) f1_macro: (test=0.699) precision: (test=0.714) recall: (test=0.397) roc_auc: (test=0.841) total time=   0.0s\n",
      "[CV 2/5] END random_state=2, solver=liblinear; accuracy: (test=0.815) f1_macro: (test=0.697) precision: (test=0.694) recall: (test=0.400) roc_auc: (test=0.835) total time=   0.0s\n",
      "[CV 3/5] END random_state=2, solver=liblinear; accuracy: (test=0.820) f1_macro: (test=0.702) precision: (test=0.716) recall: (test=0.401) roc_auc: (test=0.838) total time=   0.0s\n",
      "[CV 4/5] END random_state=2, solver=liblinear; accuracy: (test=0.821) f1_macro: (test=0.707) precision: (test=0.717) recall: (test=0.412) roc_auc: (test=0.840) total time=   0.0s\n",
      "[CV 5/5] END random_state=2, solver=liblinear; accuracy: (test=0.820) f1_macro: (test=0.703) precision: (test=0.714) recall: (test=0.405) roc_auc: (test=0.845) total time=   0.0s\n",
      "[CV 1/5] END random_state=2, solver=newton-cg; accuracy: (test=0.819) f1_macro: (test=0.700) precision: (test=0.714) recall: (test=0.397) roc_auc: (test=0.841) total time=   0.0s\n",
      "[CV 2/5] END random_state=2, solver=newton-cg; accuracy: (test=0.817) f1_macro: (test=0.700) precision: (test=0.695) recall: (test=0.407) roc_auc: (test=0.835) total time=   0.0s\n",
      "[CV 3/5] END random_state=2, solver=newton-cg; accuracy: (test=0.819) f1_macro: (test=0.702) precision: (test=0.713) recall: (test=0.402) roc_auc: (test=0.837) total time=   0.0s\n",
      "[CV 4/5] END random_state=2, solver=newton-cg; accuracy: (test=0.821) f1_macro: (test=0.707) precision: (test=0.715) recall: (test=0.413) roc_auc: (test=0.840) total time=   0.0s\n",
      "[CV 5/5] END random_state=2, solver=newton-cg; accuracy: (test=0.820) f1_macro: (test=0.703) precision: (test=0.711) recall: (test=0.407) roc_auc: (test=0.844) total time=   0.1s\n",
      "[CV 1/5] END random_state=3, solver=liblinear; accuracy: (test=0.819) f1_macro: (test=0.699) precision: (test=0.714) recall: (test=0.397) roc_auc: (test=0.841) total time=   0.0s\n",
      "[CV 2/5] END random_state=3, solver=liblinear; accuracy: (test=0.815) f1_macro: (test=0.697) precision: (test=0.694) recall: (test=0.400) roc_auc: (test=0.835) total time=   0.0s\n",
      "[CV 3/5] END random_state=3, solver=liblinear; accuracy: (test=0.820) f1_macro: (test=0.702) precision: (test=0.716) recall: (test=0.401) roc_auc: (test=0.838) total time=   0.0s\n",
      "[CV 4/5] END random_state=3, solver=liblinear; accuracy: (test=0.821) f1_macro: (test=0.707) precision: (test=0.717) recall: (test=0.412) roc_auc: (test=0.840) total time=   0.0s\n",
      "[CV 5/5] END random_state=3, solver=liblinear; accuracy: (test=0.820) f1_macro: (test=0.703) precision: (test=0.714) recall: (test=0.405) roc_auc: (test=0.845) total time=   0.0s\n",
      "[CV 1/5] END random_state=3, solver=newton-cg; accuracy: (test=0.819) f1_macro: (test=0.700) precision: (test=0.714) recall: (test=0.397) roc_auc: (test=0.841) total time=   0.0s\n",
      "[CV 2/5] END random_state=3, solver=newton-cg; accuracy: (test=0.817) f1_macro: (test=0.700) precision: (test=0.695) recall: (test=0.407) roc_auc: (test=0.835) total time=   0.0s\n",
      "[CV 3/5] END random_state=3, solver=newton-cg; accuracy: (test=0.819) f1_macro: (test=0.702) precision: (test=0.713) recall: (test=0.402) roc_auc: (test=0.837) total time=   0.0s\n",
      "[CV 4/5] END random_state=3, solver=newton-cg; accuracy: (test=0.821) f1_macro: (test=0.707) precision: (test=0.715) recall: (test=0.413) roc_auc: (test=0.840) total time=   0.0s\n",
      "[CV 5/5] END random_state=3, solver=newton-cg; accuracy: (test=0.820) f1_macro: (test=0.703) precision: (test=0.711) recall: (test=0.407) roc_auc: (test=0.844) total time=   0.1s\n",
      "\n",
      "The best parameters for evaluation are as per following:\n",
      "{'random_state': 0, 'solver': 'liblinear'}\n",
      "\n",
      "The Accuracy of the best model is: 83.96\n"
     ]
    }
   ],
   "source": [
    "# Finding the best accuracy parameters in Logistic Regression\n",
    "parameters ={'solver':['liblinear','newton-cg'],'random_state':[0,1,2,3]}\n",
    "\n",
    "lr_faircv = GridSearchCV(estimator=LogisticRegression(), param_grid=parameters,\n",
    "                     scoring=['accuracy','precision','recall','f1_macro','roc_auc'],\n",
    "                     refit='roc_auc', cv=5, verbose=5, error_score='raise')\n",
    "\n",
    "# Fitting the model for grid search\n",
    "lr_faircv.fit(X_train, y_train)\n",
    "best_lr_model = lr_faircv.best_estimator_\n",
    "print ('\\nThe best parameters for evaluation are as per following:')\n",
    "print (lr_faircv.best_params_)\n",
    "print(\"\\nThe Accuracy of the best model is: %0.2f\" % (100*lr_faircv.best_score_))"
   ]
  },
  {
   "cell_type": "markdown",
   "id": "cb510abc",
   "metadata": {},
   "source": [
    "## SINCE THERE ARE TWO CV MODELS, THE LOGISTIC REGRESSION MODEL IS RUN TWICE TO CHECK FOR A BETTER RESULT USING BOTH THE PARAMETERS "
   ]
  },
  {
   "cell_type": "markdown",
   "id": "df198963",
   "metadata": {},
   "source": [
    "### LOGISTIC REGRESSION-1"
   ]
  },
  {
   "cell_type": "code",
   "execution_count": 8,
   "id": "790dbb35",
   "metadata": {},
   "outputs": [
    {
     "name": "stdout",
     "output_type": "stream",
     "text": [
      "Logistic Regression 1 Accuracy: 82.09%\n",
      "\n",
      "Confusion Matrix: \n",
      " [[10528   567]\n",
      " [ 2057  1501]]\n"
     ]
    }
   ],
   "source": [
    "lr1=LogisticRegression(solver='newton-cg', random_state=0)\n",
    "lr1.fit(X_train,y_train)\n",
    "predictions1 = lr1.predict(X_test)\n",
    "print(\"Logistic Regression 1 Accuracy: %0.2f\" %(100 * accuracy_score(y_test,predictions1)) + \"%\")\n",
    "print(\"\\nConfusion Matrix: \\n\", confusion_matrix(y_test, predictions1))"
   ]
  },
  {
   "cell_type": "markdown",
   "id": "64ad1b62",
   "metadata": {},
   "source": [
    "##### TEST DATA METRICS 1"
   ]
  },
  {
   "cell_type": "code",
   "execution_count": 9,
   "id": "8127f79e",
   "metadata": {},
   "outputs": [
    {
     "name": "stdout",
     "output_type": "stream",
     "text": [
      "Statistical Parity Difference: -0.1666\n",
      "Equal opportunity difference:  -0.2753\n",
      "Average of difference:         -0.1713\n",
      "Balanced accuracy:              0.6854\n",
      "Disparate Impact:               0.1512\n"
     ]
    }
   ],
   "source": [
    "test_pred1=test.copy()\n",
    "test_pred1.labels=predictions1\n",
    "\n",
    "\n",
    "metric=ClassificationMetric(test,test_pred1,unprivileged_groups=unprivileged_groups,privileged_groups=privileged_groups)\n",
    "\n",
    "print(\"Statistical Parity Difference: %0.4f\" % metric.statistical_parity_difference())\n",
    "print(\"Equal opportunity difference:  %0.4f\" % metric.equal_opportunity_difference())\n",
    "print(\"Average of difference:         %0.4f\" % metric.average_odds_difference())\n",
    "print(\"Balanced accuracy:              %0.4f\" % ((metric.true_positive_rate() + metric.true_negative_rate()) / 2))\n",
    "print(\"Disparate Impact:               %0.4f\" % metric.disparate_impact())"
   ]
  },
  {
   "cell_type": "markdown",
   "id": "ce221180",
   "metadata": {},
   "source": [
    "### LOGISTIC REGRESSION-2"
   ]
  },
  {
   "cell_type": "code",
   "execution_count": 10,
   "id": "6e76f905",
   "metadata": {},
   "outputs": [
    {
     "name": "stdout",
     "output_type": "stream",
     "text": [
      "Logistic Regression 2 Accuracy: 82.13%\n",
      "\n",
      "Confusion Matrix: \n",
      " [[10533   562]\n",
      " [ 2057  1501]]\n"
     ]
    }
   ],
   "source": [
    "lr2=LogisticRegression(solver='liblinear', random_state=0)\n",
    "lr2.fit(X_train,y_train)\n",
    "predictions2 = lr2.predict(X_test)\n",
    "print(\"Logistic Regression 2 Accuracy: %0.2f\" %(100 * accuracy_score(y_test,predictions2)) + \"%\")\n",
    "print(\"\\nConfusion Matrix: \\n\", confusion_matrix(y_test, predictions2))"
   ]
  },
  {
   "cell_type": "markdown",
   "id": "7624cf9c",
   "metadata": {},
   "source": [
    "##### TEST METRICS DATA 2 "
   ]
  },
  {
   "cell_type": "code",
   "execution_count": 11,
   "id": "edb7f335",
   "metadata": {
    "scrolled": false
   },
   "outputs": [
    {
     "name": "stdout",
     "output_type": "stream",
     "text": [
      "Statistical Parity Difference: -0.1661\n",
      "Equal opportunity difference:  -0.2731\n",
      "Average of difference:         -0.1700\n",
      "Balanced accuracy:              0.6856\n",
      "Disparate Impact:               0.1516\n"
     ]
    }
   ],
   "source": [
    "test_pred2=test.copy()\n",
    "test_pred2.labels=predictions2\n",
    "\n",
    "metric=ClassificationMetric(test,test_pred2,unprivileged_groups=unprivileged_groups,privileged_groups=privileged_groups)\n",
    "\n",
    "print(\"Statistical Parity Difference: %0.4f\" % metric.statistical_parity_difference())\n",
    "print(\"Equal opportunity difference:  %0.4f\" % metric.equal_opportunity_difference())\n",
    "print(\"Average of difference:         %0.4f\" % metric.average_odds_difference())\n",
    "print(\"Balanced accuracy:              %0.4f\" % ((metric.true_positive_rate() + metric.true_negative_rate()) / 2))\n",
    "print(\"Disparate Impact:               %0.4f\" % metric.disparate_impact())"
   ]
  },
  {
   "cell_type": "markdown",
   "id": "58a7dc75",
   "metadata": {},
   "source": [
    "## TASK-2"
   ]
  },
  {
   "cell_type": "code",
   "execution_count": 12,
   "id": "15b26460",
   "metadata": {},
   "outputs": [
    {
     "name": "stderr",
     "output_type": "stream",
     "text": [
      "100%|██████████████████████████████████████████████████████████████████████████████████| 11/11 [00:32<00:00,  2.99s/it]\n"
     ]
    }
   ],
   "source": [
    "# Best Fairness Model\n",
    "lr = LogisticRegression(class_weight='balanced', solver='liblinear')\n",
    "\n",
    "# Metric scores\n",
    "accuracy_list = [] # accuracy\n",
    "spd_list = [] # statistical parity difference\n",
    "di_list = []  # disparate impact\n",
    "fprd_list = [] # false positive rate difference\n",
    "fnrd_list = [] # false negative rate difference\n",
    "errd_list = [] # error rate difference\n",
    "tprd_list=[]\n",
    "#\n",
    "# Experiment with different repair levels\n",
    "for level in tqdm(np.arange(0., 1.1, 0.1)):\n",
    "    # Algorithms for bias removal\n",
    "    di_remover = DisparateImpactRemover(repair_level=level, sensitive_attribute='sex')\n",
    "\n",
    "    # Repaired versions of train and test dataset objects\n",
    "    ad_train_rep = di_remover.fit_transform(train)\n",
    "    ad_test_rep = di_remover.fit_transform(test)\n",
    "\n",
    "    # Construct X_train, X_test, y_train and y_test\n",
    "    X_train = np.delete(ad_train_rep.features, protected_idx, axis=1)\n",
    "    X_test = np.delete(ad_test_rep.features, protected_idx, axis=1)\n",
    "    y_train = ad_train_rep.labels.ravel()\n",
    "    y_test = ad_test_rep.labels.ravel()\n",
    "\n",
    "    # Training and prediction\n",
    "    lr.fit(X_train, y_train) # fit\n",
    "    ad_test_rep_pred = ad_test_rep.copy() # need both dataset objects due to their different labels\n",
    "    ad_test_rep_pred.labels = lr.predict(X_test) # prediction\n",
    "\n",
    "    # Dataset metric\n",
    "    dm = BinaryLabelDatasetMetric(ad_test_rep_pred, privileged_groups=privileged_groups, unprivileged_groups=unprivileged_groups)\n",
    "    di_list.append(dm.disparate_impact())\n",
    "    # Classification metric\n",
    "    cm = ClassificationMetric(ad_test_rep, ad_test_rep_pred, privileged_groups=privileged_groups, unprivileged_groups=unprivileged_groups)\n",
    "    # Metric calculations\n",
    "    accuracy_list.append(cm.accuracy())\n",
    "    fprd_list.append(cm.false_positive_rate_difference())\n",
    "    fnrd_list.append(cm.false_negative_rate_difference())\n",
    "    errd_list.append(cm.error_rate_difference())\n",
    "    tprd_list.append(cm.true_positive_rate_difference())\n",
    "    spd_list.append(cm.mean_difference())\n",
    "    "
   ]
  },
  {
   "cell_type": "code",
   "execution_count": 13,
   "id": "ecdda7f3",
   "metadata": {
    "scrolled": true
   },
   "outputs": [
    {
     "data": {
      "image/png": "[encoded data removed]",
      "text/plain": [
       "<Figure size 1080x360 with 2 Axes>"
      ]
     },
     "metadata": {
      "needs_background": "light"
     },
     "output_type": "display_data"
    }
   ],
   "source": [
    "# Visualization of results\n",
    "fig, (ax1, ax2) = plt.subplots(1, 2, figsize=(15,5)) # [1 x 2] grid\n",
    "ax1.plot(np.arange(0., 1.1, 0.1), di_list, marker='o')\n",
    "ax1.plot(np.arange(0., 1.1, 0.1), accuracy_list, marker='x')\n",
    "ax1.set_xlabel('Repair level')\n",
    "ax1.legend(['Disparate impact', 'Accuracy'])\n",
    "ax1.set_title('Disparate impact vs accuracy')\n",
    "ax2.plot(np.arange(0., 1.1, 0.1), fprd_list, marker='o')\n",
    "ax2.plot(np.arange(0., 1.1, 0.1), fnrd_list, marker='s')\n",
    "ax2.plot(np.arange(0., 1.1, 0.1), errd_list, marker='*')\n",
    "ax2.plot(np.arange(0., 1.1, 0.1), tprd_list, marker='o')\n",
    "ax2.set_xlabel('Repair level')\n",
    "ax2.legend(['FPRD', 'FNRD', 'ERRD', 'TPRD'])\n",
    "ax2.set_title('Differences of (mis)classification rates')\n",
    "plt.show()"
   ]
  },
  {
   "cell_type": "markdown",
   "id": "72da3996",
   "metadata": {},
   "source": [
    "### Comments\n",
    "- The fairness-unaware performance of the Logistic Regression model is obtained with repair_level=0, for a specified set of model hyperparameters e.g. solver. For example, the newton-cg solver achieves better accuracy than liblinear solver, however the bias removal task is more challenging.\n",
    "- By increasing the **repair_level**, disparate impact score increases resulting to a fairer classifier; at the same time, the **accuracy** is not affected. For repair_level=1 we achieve the best disparate impact ratio equal to 0.95.\n",
    "- As far as **(mis)classification rate differences** are concerned, by removing disparate impact the respective FPRD and FNRD metrics are also reduced, up until a point (repair_level~0.4) where they reach a value close to 0. By increasing repair_level more than this threshold, the differences begin to increase again, in the opposite direction.\n",
    "\n",
    "**Note**: brief explanation of the (mis)classification rate differences that are included in the second plot:\n",
    "- **FPRD** (False Positive Rate Difference): $FPR_{D=unprivileged}−FPR_{D=privileged}$\n",
    "- **FNRD** (False Negative Rate Difference): $FNR_{D=unprivileged}−FNR_{D=privileged}$\n",
    "- **ERRD** (Error Rate Difference): Difference in error rates for unprivileged and privileged groups, $ERR_{D=unprivileged}−ERR_{D=privileged}$, and $ERR=(FP+FN)/(P+N)$"
   ]
  },
  {
   "cell_type": "markdown",
   "id": "606ed59e",
   "metadata": {},
   "source": [
    "##### TEST DATA METRICS"
   ]
  },
  {
   "cell_type": "code",
   "execution_count": 14,
   "id": "5d8fe725",
   "metadata": {
    "scrolled": true
   },
   "outputs": [
    {
     "name": "stdout",
     "output_type": "stream",
     "text": [
      "Base rate on entire population: 0.34\n",
      "Base rate on privileged group (males) :0.34\n",
      "Base rate on unprivileged group (females) :0.33\n",
      "Statistical parity difference: -0.02\n",
      "Disparate impact: 0.95\n"
     ]
    },
    {
     "data": {
      "image/png": "[encoded data removed]",
      "text/plain": [
       "<Figure size 864x360 with 2 Axes>"
      ]
     },
     "metadata": {
      "needs_background": "light"
     },
     "output_type": "display_data"
    }
   ],
   "source": [
    "# Visualize bias in repaired test set\n",
    "\n",
    "# Create dataframe from test set\n",
    "sex = ad_test_rep_pred.features[:,protected_idx]\n",
    "inc = ad_test_rep_pred.labels\n",
    "ad_test_rep_pred_df = pd.DataFrame({'sex':sex, 'income-per-year':inc})\n",
    "# Call fairness analysis function\n",
    "analyze_fairness(ad_test_rep_pred, ad_test_rep_pred_df)"
   ]
  },
  {
   "cell_type": "markdown",
   "id": "0dd9ae0a",
   "metadata": {},
   "source": [
    "# TASK 3"
   ]
  },
  {
   "cell_type": "code",
   "execution_count": null,
   "id": "23eecc94",
   "metadata": {
    "scrolled": true
   },
   "outputs": [],
   "source": [
    "pre_fairness = lr2.fit(X_train,y_train)\n",
    "post_fairness = lr.fit(X_train, y_train)"
   ]
  },
  {
   "cell_type": "code",
   "execution_count": null,
   "id": "e96dc1fb",
   "metadata": {},
   "outputs": [],
   "source": [
    "report.compare(X_test, y_test, test['sex'], pre_fairness, pred_type=\"regression\")"
   ]
  }
 ],
 "metadata": {
  "kernelspec": {
   "display_name": "Python 3",
   "language": "python",
   "name": "python3"
  },
  "language_info": {
   "codemirror_mode": {
    "name": "ipython",
    "version": 3
   },
   "file_extension": ".py",
   "mimetype": "text/x-python",
   "name": "python",
   "nbconvert_exporter": "python",
   "pygments_lexer": "ipython3",
   "version": "3.8.8"
  }
 },
 "nbformat": 4,
 "nbformat_minor": 5
}
